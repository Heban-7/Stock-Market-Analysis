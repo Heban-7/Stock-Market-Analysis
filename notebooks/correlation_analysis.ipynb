{
 "cells": [
  {
   "cell_type": "markdown",
   "metadata": {},
   "source": [
    "# Correlation Analysis Between Stock news and Price movement"
   ]
  },
  {
   "cell_type": "code",
   "execution_count": 16,
   "metadata": {},
   "outputs": [],
   "source": [
    "import yfinance as yf\n",
    "import pandas as pd\n",
    "import numpy as np\n",
    "import matplotlib.pyplot as plt\n",
    "import seaborn as sns"
   ]
  },
  {
   "cell_type": "code",
   "execution_count": 4,
   "metadata": {},
   "outputs": [
    {
     "name": "stderr",
     "output_type": "stream",
     "text": [
      "[nltk_data] Downloading package vader_lexicon to\n",
      "[nltk_data]     C:\\Users\\liulj\\AppData\\Roaming\\nltk_data...\n",
      "[nltk_data]   Package vader_lexicon is already up-to-date!\n"
     ]
    },
    {
     "data": {
      "text/plain": [
       "True"
      ]
     },
     "execution_count": 4,
     "metadata": {},
     "output_type": "execute_result"
    }
   ],
   "source": [
    "import nltk\n",
    "from nltk.sentiment import SentimentIntensityAnalyzer \n",
    "nltk.download('vader_lexicon')"
   ]
  },
  {
   "cell_type": "code",
   "execution_count": 3,
   "metadata": {},
   "outputs": [],
   "source": [
    "# Get the working directory \n",
    "import os, sys\n",
    "# current working directory\n",
    "current_dir = os.getcwd()\n",
    "\n",
    "# Get the parent directory\n",
    "parent_dir = os.path.dirname(current_dir)\n",
    "\n",
    "# Insert the path to the parent directory\n",
    "sys.path.insert(0, parent_dir)"
   ]
  },
  {
   "cell_type": "code",
   "execution_count": 5,
   "metadata": {},
   "outputs": [],
   "source": [
    "from scripts.financial_analysis import FinancialAnalyzer"
   ]
  },
  {
   "cell_type": "markdown",
   "metadata": {},
   "source": [
    "**Load APPLE data**"
   ]
  },
  {
   "cell_type": "code",
   "execution_count": 6,
   "metadata": {},
   "outputs": [],
   "source": [
    "# Define ticker and date range\n",
    "ticker = 'AAPL'\n",
    "data_dir = r'C:\\Users\\liulj\\Desktop\\KAIM\\stock-market-data\\yfinance_data'\n",
    "end_date = '2024-10-7'\n",
    "start_date = '1980-12-12'\n",
    "apple_analyzer = FinancialAnalyzer(ticker=ticker, start_date=start_date, end_date=end_date, data_dir=data_dir)"
   ]
  },
  {
   "cell_type": "code",
   "execution_count": 7,
   "metadata": {},
   "outputs": [
    {
     "data": {
      "text/html": [
       "<div>\n",
       "<style scoped>\n",
       "    .dataframe tbody tr th:only-of-type {\n",
       "        vertical-align: middle;\n",
       "    }\n",
       "\n",
       "    .dataframe tbody tr th {\n",
       "        vertical-align: top;\n",
       "    }\n",
       "\n",
       "    .dataframe thead th {\n",
       "        text-align: right;\n",
       "    }\n",
       "</style>\n",
       "<table border=\"1\" class=\"dataframe\">\n",
       "  <thead>\n",
       "    <tr style=\"text-align: right;\">\n",
       "      <th></th>\n",
       "      <th>Open</th>\n",
       "      <th>High</th>\n",
       "      <th>Low</th>\n",
       "      <th>Close</th>\n",
       "      <th>Adj Close</th>\n",
       "      <th>Volume</th>\n",
       "    </tr>\n",
       "    <tr>\n",
       "      <th>Date</th>\n",
       "      <th></th>\n",
       "      <th></th>\n",
       "      <th></th>\n",
       "      <th></th>\n",
       "      <th></th>\n",
       "      <th></th>\n",
       "    </tr>\n",
       "  </thead>\n",
       "  <tbody>\n",
       "    <tr>\n",
       "      <th>1980-12-12</th>\n",
       "      <td>0.128348</td>\n",
       "      <td>0.128906</td>\n",
       "      <td>0.128348</td>\n",
       "      <td>0.128348</td>\n",
       "      <td>0.098943</td>\n",
       "      <td>469033600</td>\n",
       "    </tr>\n",
       "    <tr>\n",
       "      <th>1980-12-15</th>\n",
       "      <td>0.122210</td>\n",
       "      <td>0.122210</td>\n",
       "      <td>0.121652</td>\n",
       "      <td>0.121652</td>\n",
       "      <td>0.093781</td>\n",
       "      <td>175884800</td>\n",
       "    </tr>\n",
       "    <tr>\n",
       "      <th>1980-12-16</th>\n",
       "      <td>0.113281</td>\n",
       "      <td>0.113281</td>\n",
       "      <td>0.112723</td>\n",
       "      <td>0.112723</td>\n",
       "      <td>0.086898</td>\n",
       "      <td>105728000</td>\n",
       "    </tr>\n",
       "    <tr>\n",
       "      <th>1980-12-17</th>\n",
       "      <td>0.115513</td>\n",
       "      <td>0.116071</td>\n",
       "      <td>0.115513</td>\n",
       "      <td>0.115513</td>\n",
       "      <td>0.089049</td>\n",
       "      <td>86441600</td>\n",
       "    </tr>\n",
       "    <tr>\n",
       "      <th>1980-12-18</th>\n",
       "      <td>0.118862</td>\n",
       "      <td>0.119420</td>\n",
       "      <td>0.118862</td>\n",
       "      <td>0.118862</td>\n",
       "      <td>0.091630</td>\n",
       "      <td>73449600</td>\n",
       "    </tr>\n",
       "  </tbody>\n",
       "</table>\n",
       "</div>"
      ],
      "text/plain": [
       "                Open      High       Low     Close  Adj Close     Volume\n",
       "Date                                                                    \n",
       "1980-12-12  0.128348  0.128906  0.128348  0.128348   0.098943  469033600\n",
       "1980-12-15  0.122210  0.122210  0.121652  0.121652   0.093781  175884800\n",
       "1980-12-16  0.113281  0.113281  0.112723  0.112723   0.086898  105728000\n",
       "1980-12-17  0.115513  0.116071  0.115513  0.115513   0.089049   86441600\n",
       "1980-12-18  0.118862  0.119420  0.118862  0.118862   0.091630   73449600"
      ]
     },
     "execution_count": 7,
     "metadata": {},
     "output_type": "execute_result"
    }
   ],
   "source": [
    "apple_stock_data = apple_analyzer.retrieve_stock_data()\n",
    "apple_stock_data.drop(['Dividends','Stock Splits'], axis = 1, inplace=True)\n",
    "apple_stock_data.head()"
   ]
  },
  {
   "cell_type": "markdown",
   "metadata": {},
   "source": [
    "**Load Sentimental data**"
   ]
  },
  {
   "cell_type": "code",
   "execution_count": 10,
   "metadata": {},
   "outputs": [
    {
     "data": {
      "text/html": [
       "<div>\n",
       "<style scoped>\n",
       "    .dataframe tbody tr th:only-of-type {\n",
       "        vertical-align: middle;\n",
       "    }\n",
       "\n",
       "    .dataframe tbody tr th {\n",
       "        vertical-align: top;\n",
       "    }\n",
       "\n",
       "    .dataframe thead th {\n",
       "        text-align: right;\n",
       "    }\n",
       "</style>\n",
       "<table border=\"1\" class=\"dataframe\">\n",
       "  <thead>\n",
       "    <tr style=\"text-align: right;\">\n",
       "      <th></th>\n",
       "      <th>Unnamed: 0</th>\n",
       "      <th>headline</th>\n",
       "      <th>url</th>\n",
       "      <th>publisher</th>\n",
       "      <th>date</th>\n",
       "      <th>stock</th>\n",
       "      <th>hour</th>\n",
       "      <th>day</th>\n",
       "      <th>weekday</th>\n",
       "      <th>month</th>\n",
       "      <th>year</th>\n",
       "      <th>sentiment</th>\n",
       "      <th>sentiment_category</th>\n",
       "    </tr>\n",
       "  </thead>\n",
       "  <tbody>\n",
       "    <tr>\n",
       "      <th>0</th>\n",
       "      <td>0</td>\n",
       "      <td>Stocks That Hit 52-Week Highs On Friday</td>\n",
       "      <td>https://www.benzinga.com/news/20/06/16190091/s...</td>\n",
       "      <td>Benzinga Insights</td>\n",
       "      <td>2020-06-05 14:30:54+00:00</td>\n",
       "      <td>A</td>\n",
       "      <td>14.0</td>\n",
       "      <td>5.0</td>\n",
       "      <td>Friday</td>\n",
       "      <td>6.0</td>\n",
       "      <td>2020.0</td>\n",
       "      <td>0.000</td>\n",
       "      <td>Neutral</td>\n",
       "    </tr>\n",
       "    <tr>\n",
       "      <th>1</th>\n",
       "      <td>1</td>\n",
       "      <td>Stocks That Hit 52-Week Highs On Wednesday</td>\n",
       "      <td>https://www.benzinga.com/news/20/06/16170189/s...</td>\n",
       "      <td>Benzinga Insights</td>\n",
       "      <td>2020-06-03 14:45:20+00:00</td>\n",
       "      <td>A</td>\n",
       "      <td>14.0</td>\n",
       "      <td>3.0</td>\n",
       "      <td>Wednesday</td>\n",
       "      <td>6.0</td>\n",
       "      <td>2020.0</td>\n",
       "      <td>0.000</td>\n",
       "      <td>Neutral</td>\n",
       "    </tr>\n",
       "    <tr>\n",
       "      <th>2</th>\n",
       "      <td>2</td>\n",
       "      <td>71 Biggest Movers From Friday</td>\n",
       "      <td>https://www.benzinga.com/news/20/05/16103463/7...</td>\n",
       "      <td>Lisa Levin</td>\n",
       "      <td>2020-05-26 08:30:07+00:00</td>\n",
       "      <td>A</td>\n",
       "      <td>8.0</td>\n",
       "      <td>26.0</td>\n",
       "      <td>Tuesday</td>\n",
       "      <td>5.0</td>\n",
       "      <td>2020.0</td>\n",
       "      <td>0.000</td>\n",
       "      <td>Neutral</td>\n",
       "    </tr>\n",
       "    <tr>\n",
       "      <th>3</th>\n",
       "      <td>3</td>\n",
       "      <td>46 Stocks Moving In Friday's Mid-Day Session</td>\n",
       "      <td>https://www.benzinga.com/news/20/05/16095921/4...</td>\n",
       "      <td>Lisa Levin</td>\n",
       "      <td>2020-05-22 16:45:06+00:00</td>\n",
       "      <td>A</td>\n",
       "      <td>16.0</td>\n",
       "      <td>22.0</td>\n",
       "      <td>Friday</td>\n",
       "      <td>5.0</td>\n",
       "      <td>2020.0</td>\n",
       "      <td>0.000</td>\n",
       "      <td>Neutral</td>\n",
       "    </tr>\n",
       "    <tr>\n",
       "      <th>4</th>\n",
       "      <td>4</td>\n",
       "      <td>B of A Securities Maintains Neutral on Agilent...</td>\n",
       "      <td>https://www.benzinga.com/news/20/05/16095304/b...</td>\n",
       "      <td>Vick Meyer</td>\n",
       "      <td>2020-05-22 15:38:59+00:00</td>\n",
       "      <td>A</td>\n",
       "      <td>15.0</td>\n",
       "      <td>22.0</td>\n",
       "      <td>Friday</td>\n",
       "      <td>5.0</td>\n",
       "      <td>2020.0</td>\n",
       "      <td>0.296</td>\n",
       "      <td>Positive</td>\n",
       "    </tr>\n",
       "  </tbody>\n",
       "</table>\n",
       "</div>"
      ],
      "text/plain": [
       "   Unnamed: 0                                           headline  \\\n",
       "0           0            Stocks That Hit 52-Week Highs On Friday   \n",
       "1           1         Stocks That Hit 52-Week Highs On Wednesday   \n",
       "2           2                      71 Biggest Movers From Friday   \n",
       "3           3       46 Stocks Moving In Friday's Mid-Day Session   \n",
       "4           4  B of A Securities Maintains Neutral on Agilent...   \n",
       "\n",
       "                                                 url          publisher  \\\n",
       "0  https://www.benzinga.com/news/20/06/16190091/s...  Benzinga Insights   \n",
       "1  https://www.benzinga.com/news/20/06/16170189/s...  Benzinga Insights   \n",
       "2  https://www.benzinga.com/news/20/05/16103463/7...         Lisa Levin   \n",
       "3  https://www.benzinga.com/news/20/05/16095921/4...         Lisa Levin   \n",
       "4  https://www.benzinga.com/news/20/05/16095304/b...         Vick Meyer   \n",
       "\n",
       "                        date stock  hour   day    weekday  month    year  \\\n",
       "0  2020-06-05 14:30:54+00:00     A  14.0   5.0     Friday    6.0  2020.0   \n",
       "1  2020-06-03 14:45:20+00:00     A  14.0   3.0  Wednesday    6.0  2020.0   \n",
       "2  2020-05-26 08:30:07+00:00     A   8.0  26.0    Tuesday    5.0  2020.0   \n",
       "3  2020-05-22 16:45:06+00:00     A  16.0  22.0     Friday    5.0  2020.0   \n",
       "4  2020-05-22 15:38:59+00:00     A  15.0  22.0     Friday    5.0  2020.0   \n",
       "\n",
       "   sentiment sentiment_category  \n",
       "0      0.000            Neutral  \n",
       "1      0.000            Neutral  \n",
       "2      0.000            Neutral  \n",
       "3      0.000            Neutral  \n",
       "4      0.296           Positive  "
      ]
     },
     "execution_count": 10,
     "metadata": {},
     "output_type": "execute_result"
    }
   ],
   "source": [
    "news_sentiment_data = pd.read_csv(r'C:\\Users\\liulj\\Desktop\\KAIM\\stock-market-data\\news_sentiment_data.csv')\n",
    "news_sentiment_data.head()"
   ]
  },
  {
   "cell_type": "markdown",
   "metadata": {},
   "source": [
    "**Combine The two data**"
   ]
  },
  {
   "cell_type": "code",
   "execution_count": 12,
   "metadata": {},
   "outputs": [],
   "source": [
    "# Convert date columns to datetime\n",
    "news_sentiment_data['date'] = pd.to_datetime(news_sentiment_data['date'])"
   ]
  },
  {
   "cell_type": "code",
   "execution_count": 14,
   "metadata": {},
   "outputs": [],
   "source": [
    "# Aggregate sentiment by date\n",
    "news_sentiment_data['date'] = news_sentiment_data['date'].dt.date  # Keep only the date part\n",
    "sentiment_by_date = news_sentiment_data.groupby('date')['sentiment'].mean().reset_index()\n",
    "sentiment_by_date.rename(columns={'date': 'Date'}, inplace=True)\n",
    "sentiment_by_date['Date'] = pd.to_datetime(sentiment_by_date['Date'])"
   ]
  },
  {
   "cell_type": "code",
   "execution_count": 15,
   "metadata": {},
   "outputs": [],
   "source": [
    "# Merge Apple stock data with sentiment scores\n",
    "merged_df = pd.merge(apple_stock_data, sentiment_by_date, on='Date', how='inner')"
   ]
  },
  {
   "cell_type": "code",
   "execution_count": 40,
   "metadata": {},
   "outputs": [],
   "source": [
    "# Calculate daily stock returns\n",
    "merged_df['Daily Return'] = merged_df['Close'].pct_change()"
   ]
  },
  {
   "cell_type": "code",
   "execution_count": 41,
   "metadata": {},
   "outputs": [
    {
     "data": {
      "text/html": [
       "<div>\n",
       "<style scoped>\n",
       "    .dataframe tbody tr th:only-of-type {\n",
       "        vertical-align: middle;\n",
       "    }\n",
       "\n",
       "    .dataframe tbody tr th {\n",
       "        vertical-align: top;\n",
       "    }\n",
       "\n",
       "    .dataframe thead th {\n",
       "        text-align: right;\n",
       "    }\n",
       "</style>\n",
       "<table border=\"1\" class=\"dataframe\">\n",
       "  <thead>\n",
       "    <tr style=\"text-align: right;\">\n",
       "      <th></th>\n",
       "      <th>Date</th>\n",
       "      <th>Adj Close</th>\n",
       "      <th>Close</th>\n",
       "      <th>High</th>\n",
       "      <th>Low</th>\n",
       "      <th>Open</th>\n",
       "      <th>Volume</th>\n",
       "      <th>sentiment</th>\n",
       "      <th>Daily Return</th>\n",
       "    </tr>\n",
       "  </thead>\n",
       "  <tbody>\n",
       "    <tr>\n",
       "      <th>0</th>\n",
       "      <td>2011-04-28</td>\n",
       "      <td>12.363929</td>\n",
       "      <td>12.491071</td>\n",
       "      <td>12.340000</td>\n",
       "      <td>12.383929</td>\n",
       "      <td>10.457921</td>\n",
       "      <td>360959200</td>\n",
       "      <td>0.083333</td>\n",
       "      <td>NaN</td>\n",
       "    </tr>\n",
       "    <tr>\n",
       "      <th>1</th>\n",
       "      <td>2011-04-29</td>\n",
       "      <td>12.385000</td>\n",
       "      <td>12.641071</td>\n",
       "      <td>12.381071</td>\n",
       "      <td>12.504643</td>\n",
       "      <td>10.559862</td>\n",
       "      <td>1006345200</td>\n",
       "      <td>0.367550</td>\n",
       "      <td>0.012009</td>\n",
       "    </tr>\n",
       "    <tr>\n",
       "      <th>2</th>\n",
       "      <td>2011-05-02</td>\n",
       "      <td>12.490714</td>\n",
       "      <td>12.516786</td>\n",
       "      <td>12.339286</td>\n",
       "      <td>12.367143</td>\n",
       "      <td>10.443746</td>\n",
       "      <td>442713600</td>\n",
       "      <td>0.136444</td>\n",
       "      <td>-0.009832</td>\n",
       "    </tr>\n",
       "    <tr>\n",
       "      <th>3</th>\n",
       "      <td>2011-05-03</td>\n",
       "      <td>12.428214</td>\n",
       "      <td>12.496071</td>\n",
       "      <td>12.343571</td>\n",
       "      <td>12.435714</td>\n",
       "      <td>10.501650</td>\n",
       "      <td>313348000</td>\n",
       "      <td>0.000000</td>\n",
       "      <td>-0.001655</td>\n",
       "    </tr>\n",
       "    <tr>\n",
       "      <th>4</th>\n",
       "      <td>2011-05-05</td>\n",
       "      <td>12.442857</td>\n",
       "      <td>12.533929</td>\n",
       "      <td>12.358929</td>\n",
       "      <td>12.383929</td>\n",
       "      <td>10.457921</td>\n",
       "      <td>335969200</td>\n",
       "      <td>-0.042667</td>\n",
       "      <td>0.003030</td>\n",
       "    </tr>\n",
       "  </tbody>\n",
       "</table>\n",
       "</div>"
      ],
      "text/plain": [
       "        Date  Adj Close      Close       High        Low       Open  \\\n",
       "0 2011-04-28  12.363929  12.491071  12.340000  12.383929  10.457921   \n",
       "1 2011-04-29  12.385000  12.641071  12.381071  12.504643  10.559862   \n",
       "2 2011-05-02  12.490714  12.516786  12.339286  12.367143  10.443746   \n",
       "3 2011-05-03  12.428214  12.496071  12.343571  12.435714  10.501650   \n",
       "4 2011-05-05  12.442857  12.533929  12.358929  12.383929  10.457921   \n",
       "\n",
       "       Volume  sentiment  Daily Return  \n",
       "0   360959200   0.083333           NaN  \n",
       "1  1006345200   0.367550      0.012009  \n",
       "2   442713600   0.136444     -0.009832  \n",
       "3   313348000   0.000000     -0.001655  \n",
       "4   335969200  -0.042667      0.003030  "
      ]
     },
     "execution_count": 41,
     "metadata": {},
     "output_type": "execute_result"
    }
   ],
   "source": [
    "# Output of merged data\n",
    "merged_df.head()"
   ]
  },
  {
   "cell_type": "markdown",
   "metadata": {},
   "source": [
    "**Correlation Analysis**"
   ]
  },
  {
   "cell_type": "code",
   "execution_count": 45,
   "metadata": {},
   "outputs": [],
   "source": [
    "def correlation_analysis(data, col1, col2):\n",
    "    corrilation = data[col1].corr(data[col2])\n",
    "    return corrilation\n"
   ]
  },
  {
   "cell_type": "markdown",
   "metadata": {},
   "source": [
    "**correlation between Sentiment and Close Value**"
   ]
  },
  {
   "cell_type": "code",
   "execution_count": 46,
   "metadata": {},
   "outputs": [
    {
     "data": {
      "text/plain": [
       "np.float64(-0.05475991445655013)"
      ]
     },
     "execution_count": 46,
     "metadata": {},
     "output_type": "execute_result"
    }
   ],
   "source": [
    "# correlation between Sentiment and Close Value\n",
    "correlation_analysis(merged_df, 'sentiment', 'Close')"
   ]
  },
  {
   "cell_type": "markdown",
   "metadata": {},
   "source": [
    "**correlation between Sentiment and Open Value**"
   ]
  },
  {
   "cell_type": "code",
   "execution_count": 47,
   "metadata": {},
   "outputs": [
    {
     "data": {
      "text/plain": [
       "np.float64(-0.052780333965461536)"
      ]
     },
     "execution_count": 47,
     "metadata": {},
     "output_type": "execute_result"
    }
   ],
   "source": [
    "correlation_analysis(merged_df, 'sentiment', 'Open')"
   ]
  },
  {
   "cell_type": "code",
   "execution_count": 33,
   "metadata": {},
   "outputs": [
    {
     "name": "stdout",
     "output_type": "stream",
     "text": [
      "Correlation Results:\n"
     ]
    },
    {
     "data": {
      "text/html": [
       "<div>\n",
       "<style scoped>\n",
       "    .dataframe tbody tr th:only-of-type {\n",
       "        vertical-align: middle;\n",
       "    }\n",
       "\n",
       "    .dataframe tbody tr th {\n",
       "        vertical-align: top;\n",
       "    }\n",
       "\n",
       "    .dataframe thead th {\n",
       "        text-align: right;\n",
       "    }\n",
       "</style>\n",
       "<table border=\"1\" class=\"dataframe\">\n",
       "  <thead>\n",
       "    <tr style=\"text-align: right;\">\n",
       "      <th></th>\n",
       "      <th>Date</th>\n",
       "      <th>Adj Close</th>\n",
       "      <th>Close</th>\n",
       "      <th>High</th>\n",
       "      <th>Low</th>\n",
       "      <th>Open</th>\n",
       "      <th>Volume</th>\n",
       "      <th>sentiment</th>\n",
       "    </tr>\n",
       "  </thead>\n",
       "  <tbody>\n",
       "    <tr>\n",
       "      <th>Date</th>\n",
       "      <td>1.000000</td>\n",
       "      <td>0.901144</td>\n",
       "      <td>0.900452</td>\n",
       "      <td>0.901642</td>\n",
       "      <td>0.900771</td>\n",
       "      <td>0.905849</td>\n",
       "      <td>-0.694329</td>\n",
       "      <td>-0.024373</td>\n",
       "    </tr>\n",
       "    <tr>\n",
       "      <th>Adj Close</th>\n",
       "      <td>0.901144</td>\n",
       "      <td>1.000000</td>\n",
       "      <td>0.999743</td>\n",
       "      <td>0.999732</td>\n",
       "      <td>0.999496</td>\n",
       "      <td>0.999109</td>\n",
       "      <td>-0.531120</td>\n",
       "      <td>-0.053742</td>\n",
       "    </tr>\n",
       "    <tr>\n",
       "      <th>Close</th>\n",
       "      <td>0.900452</td>\n",
       "      <td>0.999743</td>\n",
       "      <td>1.000000</td>\n",
       "      <td>0.999572</td>\n",
       "      <td>0.999712</td>\n",
       "      <td>0.999369</td>\n",
       "      <td>-0.526457</td>\n",
       "      <td>-0.054760</td>\n",
       "    </tr>\n",
       "    <tr>\n",
       "      <th>High</th>\n",
       "      <td>0.901642</td>\n",
       "      <td>0.999732</td>\n",
       "      <td>0.999572</td>\n",
       "      <td>1.000000</td>\n",
       "      <td>0.999730</td>\n",
       "      <td>0.999324</td>\n",
       "      <td>-0.536450</td>\n",
       "      <td>-0.051702</td>\n",
       "    </tr>\n",
       "    <tr>\n",
       "      <th>Low</th>\n",
       "      <td>0.900771</td>\n",
       "      <td>0.999496</td>\n",
       "      <td>0.999712</td>\n",
       "      <td>0.999730</td>\n",
       "      <td>1.000000</td>\n",
       "      <td>0.999613</td>\n",
       "      <td>-0.531616</td>\n",
       "      <td>-0.052794</td>\n",
       "    </tr>\n",
       "    <tr>\n",
       "      <th>Open</th>\n",
       "      <td>0.905849</td>\n",
       "      <td>0.999109</td>\n",
       "      <td>0.999369</td>\n",
       "      <td>0.999324</td>\n",
       "      <td>0.999613</td>\n",
       "      <td>1.000000</td>\n",
       "      <td>-0.534351</td>\n",
       "      <td>-0.052780</td>\n",
       "    </tr>\n",
       "    <tr>\n",
       "      <th>Volume</th>\n",
       "      <td>-0.694329</td>\n",
       "      <td>-0.531120</td>\n",
       "      <td>-0.526457</td>\n",
       "      <td>-0.536450</td>\n",
       "      <td>-0.531616</td>\n",
       "      <td>-0.534351</td>\n",
       "      <td>1.000000</td>\n",
       "      <td>-0.026431</td>\n",
       "    </tr>\n",
       "    <tr>\n",
       "      <th>sentiment</th>\n",
       "      <td>-0.024373</td>\n",
       "      <td>-0.053742</td>\n",
       "      <td>-0.054760</td>\n",
       "      <td>-0.051702</td>\n",
       "      <td>-0.052794</td>\n",
       "      <td>-0.052780</td>\n",
       "      <td>-0.026431</td>\n",
       "      <td>1.000000</td>\n",
       "    </tr>\n",
       "  </tbody>\n",
       "</table>\n",
       "</div>"
      ],
      "text/plain": [
       "               Date  Adj Close     Close      High       Low      Open  \\\n",
       "Date       1.000000   0.901144  0.900452  0.901642  0.900771  0.905849   \n",
       "Adj Close  0.901144   1.000000  0.999743  0.999732  0.999496  0.999109   \n",
       "Close      0.900452   0.999743  1.000000  0.999572  0.999712  0.999369   \n",
       "High       0.901642   0.999732  0.999572  1.000000  0.999730  0.999324   \n",
       "Low        0.900771   0.999496  0.999712  0.999730  1.000000  0.999613   \n",
       "Open       0.905849   0.999109  0.999369  0.999324  0.999613  1.000000   \n",
       "Volume    -0.694329  -0.531120 -0.526457 -0.536450 -0.531616 -0.534351   \n",
       "sentiment -0.024373  -0.053742 -0.054760 -0.051702 -0.052794 -0.052780   \n",
       "\n",
       "             Volume  sentiment  \n",
       "Date      -0.694329  -0.024373  \n",
       "Adj Close -0.531120  -0.053742  \n",
       "Close     -0.526457  -0.054760  \n",
       "High      -0.536450  -0.051702  \n",
       "Low       -0.531616  -0.052794  \n",
       "Open      -0.534351  -0.052780  \n",
       "Volume     1.000000  -0.026431  \n",
       "sentiment -0.026431   1.000000  "
      ]
     },
     "execution_count": 33,
     "metadata": {},
     "output_type": "execute_result"
    }
   ],
   "source": [
    "# Perform correlation analysis for all columns\n",
    "correlation_results = merged_df.corr()\n",
    "\n",
    "# Output correlation results\n",
    "print(\"Correlation Results:\")\n",
    "correlation_results"
   ]
  },
  {
   "cell_type": "code",
   "execution_count": 51,
   "metadata": {},
   "outputs": [
    {
     "data": {
      "text/plain": [
       "Text(0.5, 1.0, 'Correlation Matrix')"
      ]
     },
     "execution_count": 51,
     "metadata": {},
     "output_type": "execute_result"
    },
    {
     "data": {
      "image/png": "[encoded data removed]",
      "text/plain": [
       "<Figure size 800x800 with 2 Axes>"
      ]
     },
     "metadata": {},
     "output_type": "display_data"
    }
   ],
   "source": [
    "# Seaborn heatmap for correlation matrix\n",
    "fig, ax = plt.subplots(figsize = (8,8))\n",
    "sns.heatmap(correlation_results, annot=True, cmap='coolwarm', fmt='.2f')\n",
    "plt.title('Correlation Matrix')"
   ]
  },
  {
   "cell_type": "markdown",
   "metadata": {},
   "source": [
    "## Visualization"
   ]
  },
  {
   "cell_type": "code",
   "execution_count": 48,
   "metadata": {},
   "outputs": [
    {
     "data": {
      "image/png": "[encoded data removed]",
      "text/plain": [
       "<Figure size 640x480 with 2 Axes>"
      ]
     },
     "metadata": {},
     "output_type": "display_data"
    }
   ],
   "source": [
    "# Plot stock prices\n",
    "plt.subplot(2, 1, 1)\n",
    "plt.plot(merged_df['Date'], merged_df['Close'], label='Close Price', color='blue')\n",
    "plt.title('Apple Close Price Over Time')\n",
    "plt.xlabel('Date')\n",
    "plt.ylabel('Close Price')\n",
    "plt.legend()\n",
    "\n",
    "# Plot sentiment scores\n",
    "plt.subplot(2, 1, 2)\n",
    "plt.plot(merged_df['Date'], merged_df['sentiment'], label='Sentiment Score', color='orange')\n",
    "plt.title('News Sentiment Over Time')\n",
    "plt.xlabel('Date')\n",
    "plt.ylabel('Sentiment Score')\n",
    "plt.legend()\n",
    "\n",
    "plt.tight_layout()\n",
    "plt.show()\n"
   ]
  },
  {
   "cell_type": "code",
   "execution_count": null,
   "metadata": {},
   "outputs": [],
   "source": []
  }
 ],
 "metadata": {
  "kernelspec": {
   "display_name": ".venv",
   "language": "python",
   "name": "python3"
  },
  "language_info": {
   "codemirror_mode": {
    "name": "ipython",
    "version": 3
   },
   "file_extension": ".py",
   "mimetype": "text/x-python",
   "name": "python",
   "nbconvert_exporter": "python",
   "pygments_lexer": "ipython3",
   "version": "3.13.1"
  }
 },
 "nbformat": 4,
 "nbformat_minor": 2
}
